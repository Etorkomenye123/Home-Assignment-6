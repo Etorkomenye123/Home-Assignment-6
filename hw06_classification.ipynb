{
  "cells": [
    {
      "cell_type": "markdown",
      "metadata": {
        "id": "49TAe9veVzwn"
      },
      "source": [
        "About the homework: In some tasks, in addition to writing code, answers to questions and conclusions are required (there are special Markdown cells marked with **Answer**).\n",
        "\n",
        "The ability to analyze the results of experiments is an important skill. Therefore, answers carry more weight than the code: the code accounts for 30% of the task grade, while answers to questions account for 70%.\n",
        "\n",
        "**Reminder:** Plagiarism is prohibited. Use of AI without mentioning how and in which parts it was used is also prohibited. If plagiarism or dishonest use of AI is revealed, the assignment is graded with 0."
      ]
    },
    {
      "cell_type": "code",
      "execution_count": 47,
      "metadata": {
        "id": "oHekUMcxVIQ_"
      },
      "outputs": [],
      "source": [
        "import numpy as np\n",
        "import pandas as pd\n",
        "\n",
        "import matplotlib.pyplot as plt\n",
        "import seaborn as sns"
      ]
    },
    {
      "cell_type": "markdown",
      "metadata": {
        "id": "1x38Gd4oVsS7"
      },
      "source": [
        "Let's work with Titanic dataset again: Download `train.csv` file from https://www.kaggle.com/c/titanic/data?select=train.csv"
      ]
    },
    {
      "cell_type": "code",
      "execution_count": 48,
      "metadata": {
        "id": "qGmppxMzWDva"
      },
      "outputs": [
        {
          "data": {
            "text/html": [
              "<div>\n",
              "<style scoped>\n",
              "    .dataframe tbody tr th:only-of-type {\n",
              "        vertical-align: middle;\n",
              "    }\n",
              "\n",
              "    .dataframe tbody tr th {\n",
              "        vertical-align: top;\n",
              "    }\n",
              "\n",
              "    .dataframe thead th {\n",
              "        text-align: right;\n",
              "    }\n",
              "</style>\n",
              "<table border=\"1\" class=\"dataframe\">\n",
              "  <thead>\n",
              "    <tr style=\"text-align: right;\">\n",
              "      <th></th>\n",
              "      <th>PassengerId</th>\n",
              "      <th>Survived</th>\n",
              "      <th>Pclass</th>\n",
              "      <th>Name</th>\n",
              "      <th>Sex</th>\n",
              "      <th>Age</th>\n",
              "      <th>SibSp</th>\n",
              "      <th>Parch</th>\n",
              "      <th>Ticket</th>\n",
              "      <th>Fare</th>\n",
              "      <th>Cabin</th>\n",
              "      <th>Embarked</th>\n",
              "    </tr>\n",
              "  </thead>\n",
              "  <tbody>\n",
              "    <tr>\n",
              "      <th>455</th>\n",
              "      <td>456</td>\n",
              "      <td>1</td>\n",
              "      <td>3</td>\n",
              "      <td>Jalsevac, Mr. Ivan</td>\n",
              "      <td>male</td>\n",
              "      <td>29.0</td>\n",
              "      <td>0</td>\n",
              "      <td>0</td>\n",
              "      <td>349240</td>\n",
              "      <td>7.8958</td>\n",
              "      <td>NaN</td>\n",
              "      <td>C</td>\n",
              "    </tr>\n",
              "    <tr>\n",
              "      <th>172</th>\n",
              "      <td>173</td>\n",
              "      <td>1</td>\n",
              "      <td>3</td>\n",
              "      <td>Johnson, Miss. Eleanor Ileen</td>\n",
              "      <td>female</td>\n",
              "      <td>1.0</td>\n",
              "      <td>1</td>\n",
              "      <td>1</td>\n",
              "      <td>347742</td>\n",
              "      <td>11.1333</td>\n",
              "      <td>NaN</td>\n",
              "      <td>S</td>\n",
              "    </tr>\n",
              "    <tr>\n",
              "      <th>480</th>\n",
              "      <td>481</td>\n",
              "      <td>0</td>\n",
              "      <td>3</td>\n",
              "      <td>Goodwin, Master. Harold Victor</td>\n",
              "      <td>male</td>\n",
              "      <td>9.0</td>\n",
              "      <td>5</td>\n",
              "      <td>2</td>\n",
              "      <td>CA 2144</td>\n",
              "      <td>46.9000</td>\n",
              "      <td>NaN</td>\n",
              "      <td>S</td>\n",
              "    </tr>\n",
              "    <tr>\n",
              "      <th>203</th>\n",
              "      <td>204</td>\n",
              "      <td>0</td>\n",
              "      <td>3</td>\n",
              "      <td>Youseff, Mr. Gerious</td>\n",
              "      <td>male</td>\n",
              "      <td>45.5</td>\n",
              "      <td>0</td>\n",
              "      <td>0</td>\n",
              "      <td>2628</td>\n",
              "      <td>7.2250</td>\n",
              "      <td>NaN</td>\n",
              "      <td>C</td>\n",
              "    </tr>\n",
              "  </tbody>\n",
              "</table>\n",
              "</div>"
            ],
            "text/plain": [
              "     PassengerId  Survived  Pclass                            Name     Sex  \\\n",
              "455          456         1       3              Jalsevac, Mr. Ivan    male   \n",
              "172          173         1       3    Johnson, Miss. Eleanor Ileen  female   \n",
              "480          481         0       3  Goodwin, Master. Harold Victor    male   \n",
              "203          204         0       3            Youseff, Mr. Gerious    male   \n",
              "\n",
              "      Age  SibSp  Parch   Ticket     Fare Cabin Embarked  \n",
              "455  29.0      0      0   349240   7.8958   NaN        C  \n",
              "172   1.0      1      1   347742  11.1333   NaN        S  \n",
              "480   9.0      5      2  CA 2144  46.9000   NaN        S  \n",
              "203  45.5      0      0     2628   7.2250   NaN        C  "
            ]
          },
          "execution_count": 48,
          "metadata": {},
          "output_type": "execute_result"
        }
      ],
      "source": [
        "df = pd.read_csv('train.csv')\n",
        "df.sample(4)"
      ]
    },
    {
      "cell_type": "markdown",
      "metadata": {
        "id": "4_kGbNUgWFn3"
      },
      "source": [
        "# Task 1 (1 point)"
      ]
    },
    {
      "cell_type": "markdown",
      "metadata": {
        "id": "U8JBebYmW7VO"
      },
      "source": [
        "Split dataFrame into train and test. Set `test_size=0.3, random_state=0`"
      ]
    },
    {
      "cell_type": "code",
      "execution_count": 49,
      "metadata": {
        "id": "6Kqr4WFWXEkT"
      },
      "outputs": [],
      "source": [
        "from sklearn.model_selection import train_test_split\n",
        "\n",
        "df_train, df_test = train_test_split(df, test_size=0.3, random_state=0)"
      ]
    },
    {
      "cell_type": "markdown",
      "metadata": {
        "id": "M0sqX_-bWJiZ"
      },
      "source": [
        "Let's start preprocessing the features:\n",
        "\n",
        "\n",
        "\n",
        "*   Drop features with $>40%$ missing values and `'PassengerId'`\n",
        "*   Fill missing values with median (for numerical features) and mode (for categorical features)\n",
        "\n"
      ]
    },
    {
      "cell_type": "code",
      "execution_count": 50,
      "metadata": {},
      "outputs": [],
      "source": [
        "missing_cnt = df.isnull().mean()\n",
        "threshold = 0.4\n",
        "features_to_drop = missing_cnt[missing_cnt > threshold].index.to_list()\n",
        "features_to_drop.append('PassengerId')\n",
        "df.drop(columns=features_to_drop, inplace=True)\n",
        "\n",
        "numerical_features = df.select_dtypes(include=[np.number]).columns\n",
        "categorical_features = df.select_dtypes(exclude=[np.number]).columns\n",
        "\n",
        "numeric_values = df[numerical_features].median()\n",
        "categorical_values = df[categorical_features].mode()\n",
        "\n",
        "df.fillna(numeric_values, inplace=True)\n",
        "df.fillna(categorical_values, inplace=True)\n",
        "\n",
        "df_train, df_test = train_test_split(df, test_size=0.3, random_state=0)"
      ]
    },
    {
      "cell_type": "markdown",
      "metadata": {
        "id": "6fo_YfZBX51t"
      },
      "source": [
        "How many features do we have now? (Do not count `'Survived'` - this will be target)"
      ]
    },
    {
      "cell_type": "code",
      "execution_count": 51,
      "metadata": {
        "id": "RmLgkeo6X_65"
      },
      "outputs": [
        {
          "name": "stdout",
          "output_type": "stream",
          "text": [
            "<class 'pandas.core.frame.DataFrame'>\n",
            "Index: 623 entries, 857 to 684\n",
            "Data columns (total 10 columns):\n",
            " #   Column    Non-Null Count  Dtype  \n",
            "---  ------    --------------  -----  \n",
            " 0   Survived  623 non-null    int64  \n",
            " 1   Pclass    623 non-null    int64  \n",
            " 2   Name      623 non-null    object \n",
            " 3   Sex       623 non-null    object \n",
            " 4   Age       623 non-null    float64\n",
            " 5   SibSp     623 non-null    int64  \n",
            " 6   Parch     623 non-null    int64  \n",
            " 7   Ticket    623 non-null    object \n",
            " 8   Fare      623 non-null    float64\n",
            " 9   Embarked  621 non-null    object \n",
            "dtypes: float64(2), int64(4), object(4)\n",
            "memory usage: 53.5+ KB\n"
          ]
        }
      ],
      "source": [
        "df_train.info()"
      ]
    },
    {
      "cell_type": "markdown",
      "metadata": {},
      "source": [
        "Now we have 9 features"
      ]
    },
    {
      "cell_type": "markdown",
      "metadata": {
        "id": "jm4rQIz7aJJW"
      },
      "source": [
        "# Task 2 (2 points)"
      ]
    },
    {
      "cell_type": "markdown",
      "metadata": {
        "id": "VsQuccHwYKFZ"
      },
      "source": [
        "Now, let's use one-hot-encoding to encode columns with type `'object'`:\n",
        "\n",
        "\n",
        "\n",
        "*   Fit the Encoder on train data\n",
        "*   Apply to train and test\n",
        "*   Check, how many new features we have now"
      ]
    },
    {
      "cell_type": "markdown",
      "metadata": {
        "id": "yYdel3SMZGIx"
      },
      "source": [
        "Describe the problems you have faced (hint: one of the problems - `ValueError` and the solution will be to set `handle_unknown` in the `OneHotEncoder`). Explain, why did they occur, which impact may they have  on the training process?"
      ]
    },
    {
      "cell_type": "code",
      "execution_count": 52,
      "metadata": {
        "id": "8xhZ89afXzJ-"
      },
      "outputs": [],
      "source": [
        "from sklearn.preprocessing import OneHotEncoder\n",
        "from sklearn.compose import ColumnTransformer\n",
        "\n",
        "column_transformer = ColumnTransformer(\n",
        "    [('ohe', OneHotEncoder(handle_unknown='ignore'), categorical_features)], \n",
        "    remainder='passthrough')\n",
        "X_train = column_transformer.fit_transform(df_train).astype(np.float64)\n",
        "X_test = column_transformer.transform(df_test).astype(np.float64)"
      ]
    },
    {
      "cell_type": "code",
      "execution_count": 53,
      "metadata": {},
      "outputs": [
        {
          "name": "stdout",
          "output_type": "stream",
          "text": [
            "(623, 10)\n",
            "(623, 1145)\n"
          ]
        }
      ],
      "source": [
        "print(df_train.shape)\n",
        "print(X_train.shape)"
      ]
    },
    {
      "cell_type": "markdown",
      "metadata": {
        "id": "oL9vyvSQZ9By"
      },
      "source": [
        "**Answer** 1145 features\n"
      ]
    },
    {
      "cell_type": "markdown",
      "metadata": {
        "id": "v8DBnRWTavTw"
      },
      "source": [
        "Drop the columns `'Name','Ticket'` and try again."
      ]
    },
    {
      "cell_type": "code",
      "execution_count": 54,
      "metadata": {
        "id": "lS6HMsHYauFx"
      },
      "outputs": [],
      "source": [
        "y_train = df_train['Survived']\n",
        "y_test = df_test['Survived']\n",
        "\n",
        "df_train.drop(columns=['Name', 'Ticket', 'Survived'], inplace=True)\n",
        "df_test.drop(columns=['Name', 'Ticket', 'Survived'], inplace=True)\n",
        "categorical_features = categorical_features.drop(['Name', 'Ticket'])\n",
        "\n",
        "column_transformer = ColumnTransformer(\n",
        "    [('ohe', OneHotEncoder(handle_unknown='ignore'), categorical_features)], \n",
        "    remainder='passthrough')\n",
        "X_train = column_transformer.fit_transform(df_train).astype(np.float64)\n",
        "X_test = column_transformer.transform(df_test).astype(np.float64)"
      ]
    },
    {
      "cell_type": "code",
      "execution_count": 55,
      "metadata": {},
      "outputs": [
        {
          "name": "stdout",
          "output_type": "stream",
          "text": [
            "(623, 7)\n",
            "(623, 11)\n"
          ]
        }
      ],
      "source": [
        "print(df_train.shape)\n",
        "print(X_train.shape)"
      ]
    },
    {
      "cell_type": "markdown",
      "metadata": {
        "id": "s6O51TIgbWp5"
      },
      "source": [
        "Combine numerical features and encoded categorical and split the data into `X` (objects with features) and `y` (target - `Survived` column) for train and test data."
      ]
    },
    {
      "cell_type": "markdown",
      "metadata": {},
      "source": [
        "Done in previous cell"
      ]
    },
    {
      "cell_type": "markdown",
      "metadata": {
        "id": "r7lzHgwzdHD5"
      },
      "source": [
        "# Task 3 (2 points)"
      ]
    },
    {
      "cell_type": "markdown",
      "metadata": {
        "id": "uQA4eucRdI52"
      },
      "source": [
        "Which metric will be better suitable for our machine learning task? (We want to predict if passenger survived or not). Explain your choice."
      ]
    },
    {
      "cell_type": "markdown",
      "metadata": {
        "id": "DGgl5M4Md3xH"
      },
      "source": [
        "**Answer** We have binary classification task here. For such tasks we have several metrics:\n",
        "1) Accuracy - the simpliest one - the proportion of correctly predicted classes\n",
        "\n",
        "2) Precision $$\\frac{TP}{TP + FP}$$ - proportion of correctly predicted +1 class\n",
        "\n",
        "3) Recall $$\\frac{TP}{TP + FN}$$ - coverage of +1 class\n",
        "\n",
        "4) F1-score - combination of Precision and Recall\n",
        "$$\\frac{2 * pr * rec}{pr + rec}$$\n",
        "\n",
        "5) F-score in general - combination of Precision and Recall with parameter\n",
        "$$(1 + \\beta^2) \\cdot \\frac{pr * rec}{\\beta ^ 2 \\cdot pr + rec}$$\n",
        "\n",
        "6) ROC_AUC and PR_AUC - areas under ROC (TPR/FPR) and PR (PR/REC) curves"
      ]
    },
    {
      "cell_type": "code",
      "execution_count": 56,
      "metadata": {},
      "outputs": [
        {
          "name": "stdout",
          "output_type": "stream",
          "text": [
            "Survived\n",
            "0    549\n",
            "1    342\n",
            "Name: count, dtype: int64\n",
            "0.3838383838383838\n"
          ]
        }
      ],
      "source": [
        "print(df['Survived'].value_counts())\n",
        "print(df['Survived'].sum() / df.shape[0])"
      ]
    },
    {
      "cell_type": "markdown",
      "metadata": {},
      "source": [
        "As we see, we have explicit imbalance of classes. Because of this, it's better to use metrics 4-6. I'll use F1-score"
      ]
    },
    {
      "cell_type": "markdown",
      "metadata": {
        "id": "sAEpBiTFeQXX"
      },
      "source": [
        "Fit logistic regression and evaluate the performance on train and test data (using metric you chose)"
      ]
    },
    {
      "cell_type": "code",
      "execution_count": 57,
      "metadata": {
        "id": "_8THNU4GeMd8"
      },
      "outputs": [
        {
          "name": "stdout",
          "output_type": "stream",
          "text": [
            "F1-Score on Train Data: 0.7304347826086957\n",
            "F1-Score on Test Data: 0.7236180904522613\n"
          ]
        }
      ],
      "source": [
        "from sklearn.metrics import f1_score\n",
        "\n",
        "from sklearn.linear_model import LogisticRegression\n",
        "\n",
        "lr = LogisticRegression(random_state=0, max_iter=1000)\n",
        "lr.fit(X_train, y_train)\n",
        "y_train_pred = lr.predict(X_train)\n",
        "y_test_pred = lr.predict(X_test)\n",
        "f1_train = f1_score(y_train, y_train_pred)\n",
        "f1_test = f1_score(y_test, y_test_pred)\n",
        "\n",
        "print(f\"F1-Score on Train Data: {f1_train}\")\n",
        "print(f\"F1-Score on Test Data: {f1_test}\")"
      ]
    },
    {
      "cell_type": "markdown",
      "metadata": {
        "id": "elBr40iEgjo8"
      },
      "source": [
        "Now, use `GridSearchCV` to find better hyperparameters (to avoid warnings about total number of iterations, set `max_iter=1000`)"
      ]
    },
    {
      "cell_type": "code",
      "execution_count": 58,
      "metadata": {
        "id": "hU_x8YH6gjI1"
      },
      "outputs": [
        {
          "name": "stdout",
          "output_type": "stream",
          "text": [
            "Best Hyperparameters: {'C': np.float64(0.4281332398719396)}\n",
            "F1-Score on Train Data: 0.7324561403508771\n",
            "F1-Score on Test Data: 0.7236180904522613\n"
          ]
        }
      ],
      "source": [
        "from sklearn.model_selection import GridSearchCV\n",
        "from sklearn.metrics import make_scorer\n",
        "\n",
        "params = {'C' : np.logspace(-5, 3, 20)\n",
        "}\n",
        "\n",
        "clf_lr = GridSearchCV(LogisticRegression(max_iter=1000), params, cv=3, scoring=make_scorer(f1_score))\n",
        "clf_lr.fit(X_train, y_train)\n",
        "best_params_lr = clf_lr.best_params_\n",
        "best_model_lr = clf_lr.best_estimator_\n",
        "print(f\"Best Hyperparameters: {best_params_lr}\")\n",
        "y_train_pred = best_model_lr.predict(X_train)\n",
        "y_test_pred = best_model_lr.predict(X_test)\n",
        "f1_train = f1_score(y_train, y_train_pred)\n",
        "f1_test = f1_score(y_test, y_test_pred)\n",
        "print(f\"F1-Score on Train Data: {f1_train}\")\n",
        "print(f\"F1-Score on Test Data: {f1_test}\")"
      ]
    },
    {
      "cell_type": "markdown",
      "metadata": {
        "id": "veJlz-Hle6Xr"
      },
      "source": [
        "# Task 4 (2 points)"
      ]
    },
    {
      "cell_type": "markdown",
      "metadata": {
        "id": "m2uHXO8He9rk"
      },
      "source": [
        "Fit a decision tree using `GridSearchCV`. Use the parameter grid for hyperparameters `max_depth, min_samples_split, min_samples_leaf`"
      ]
    },
    {
      "cell_type": "code",
      "execution_count": 59,
      "metadata": {
        "id": "d7nO8RqyeMhW"
      },
      "outputs": [
        {
          "name": "stdout",
          "output_type": "stream",
          "text": [
            "Best Hyperparameters: {'max_depth': np.int64(5), 'min_samples_leaf': np.int64(2), 'min_samples_split': np.int64(17)}\n",
            "F1-Score on Train Data: 0.7929515418502202\n",
            "F1-Score on Test Data: 0.7551020408163265\n"
          ]
        }
      ],
      "source": [
        "from sklearn.model_selection import GridSearchCV\n",
        "from sklearn.tree import DecisionTreeClassifier\n",
        "\n",
        "params = { 'max_depth' : np.arange(2, 32, 3),\n",
        "          'min_samples_split' : np.arange(2, 32, 3),\n",
        "           'min_samples_leaf' : np.arange(2, 32, 3)\n",
        "}\n",
        "\n",
        "clf_tree = GridSearchCV(DecisionTreeClassifier(), params, cv=3, scoring=make_scorer(f1_score))\n",
        "clf_tree.fit(X_train, y_train)\n",
        "best_params_tree = clf_tree.best_params_\n",
        "best_model_tree = clf_tree.best_estimator_\n",
        "print(f\"Best Hyperparameters: {best_params_tree}\")\n",
        "y_train_pred = best_model_tree.predict(X_train)\n",
        "y_test_pred = best_model_tree.predict(X_test)\n",
        "f1_train = f1_score(y_train, y_train_pred)\n",
        "f1_test = f1_score(y_test, y_test_pred)\n",
        "print(f\"F1-Score on Train Data: {f1_train}\")\n",
        "print(f\"F1-Score on Test Data: {f1_test}\")"
      ]
    },
    {
      "cell_type": "markdown",
      "metadata": {
        "id": "VmDJDWmGhSVZ"
      },
      "source": [
        "Now, use soft voting strategy to combine logistic regression and decision tree (use the ones with the best hyperparameters). Measure the quality on train and test data. Did the quality improve?"
      ]
    },
    {
      "cell_type": "code",
      "execution_count": 60,
      "metadata": {
        "id": "y-8UL6KBhcnA"
      },
      "outputs": [
        {
          "name": "stdout",
          "output_type": "stream",
          "text": [
            "F1-Score on Train Data: 0.793859649122807\n",
            "F1-Score on Test Data: 0.7357512953367875\n"
          ]
        }
      ],
      "source": [
        "from sklearn.ensemble import VotingClassifier\n",
        "\n",
        "model1 = best_model_lr\n",
        "model2 = best_model_tree\n",
        "\n",
        "voting_clf = VotingClassifier(estimators=[\n",
        "    ('lr', model1), \n",
        "    ('tree', model2)\n",
        "], voting='soft')\n",
        "\n",
        "voting_clf.fit(X_train, y_train)\n",
        "y_train_pred = voting_clf.predict(X_train)\n",
        "y_test_pred = voting_clf.predict(X_test)\n",
        "f1_train = f1_score(y_train, y_train_pred)\n",
        "f1_test = f1_score(y_test, y_test_pred)\n",
        "print(f\"F1-Score on Train Data: {f1_train}\")\n",
        "print(f\"F1-Score on Test Data: {f1_test}\")"
      ]
    },
    {
      "cell_type": "markdown",
      "metadata": {
        "id": "1Ssi1NexpY9H"
      },
      "source": [
        "**Answer** As wee see, quality is almost the same with decision tree (even less)\n"
      ]
    },
    {
      "cell_type": "markdown",
      "metadata": {
        "id": "Ffnb--9Aik6-"
      },
      "source": [
        "# Task 5 (2 points)"
      ]
    },
    {
      "cell_type": "markdown",
      "metadata": {
        "id": "4xA7zd5SisRq"
      },
      "source": [
        "Now, let's work with random forest and conduct similar experiment to the one on the seminar: let's fit `RandomForestClassifier` for different number of trees and check, how  the quality changes. Draw conclusions."
      ]
    },
    {
      "cell_type": "code",
      "execution_count": 61,
      "metadata": {
        "id": "bcB3Pp4HjE4D"
      },
      "outputs": [
        {
          "data": {
            "image/png": "[encoded data removed]",
            "text/plain": [
              "<Figure size 1200x600 with 1 Axes>"
            ]
          },
          "metadata": {},
          "output_type": "display_data"
        }
      ],
      "source": [
        "from sklearn.ensemble import RandomForestClassifier\n",
        "\n",
        "params = list(map(np.int64, np.logspace(1, 3, 20)))\n",
        "\n",
        "train_f1_scores = []\n",
        "test_f1_scores = []\n",
        "\n",
        "for n_trees in params:\n",
        "    rf_clf = RandomForestClassifier(n_estimators=n_trees, random_state=0)\n",
        "    rf_clf.fit(X_train, y_train)\n",
        "    \n",
        "    y_train_pred = rf_clf.predict(X_train)\n",
        "    y_test_pred = rf_clf.predict(X_test)\n",
        "    \n",
        "    train_f1 = f1_score(y_train, y_train_pred)\n",
        "    test_f1 = f1_score(y_test, y_test_pred)\n",
        "    \n",
        "    train_f1_scores.append(train_f1)\n",
        "    test_f1_scores.append(test_f1)\n",
        "\n",
        "plt.figure(figsize=(12, 6))\n",
        "plt.plot(params, train_f1_scores, label='Train F1-score', marker='o')\n",
        "plt.plot(params, test_f1_scores, label='Test F1-score', marker='o')\n",
        "plt.xlabel('Number of Trees')\n",
        "plt.ylabel('F1-score')\n",
        "plt.title('Random Forest Performance depends on Number of Trees')\n",
        "plt.legend()\n",
        "plt.grid()\n",
        "plt.show()"
      ]
    },
    {
      "cell_type": "markdown",
      "metadata": {
        "id": "S5jUcPuwm4hu"
      },
      "source": [
        "With how many trees the best train quality is achived? What the test quality will be?"
      ]
    },
    {
      "cell_type": "code",
      "execution_count": 62,
      "metadata": {
        "id": "464HNlQzmvWh"
      },
      "outputs": [
        {
          "name": "stdout",
          "output_type": "stream",
          "text": [
            "Number of trees: 233\n",
            "Train f1-score max: 0.9728601252609603\n",
            "Test f1-score: 0.7614213197969543\n",
            "Number of trees: 88\n",
            "Train f1-score max: 0.9726315789473684\n",
            "Test f1-score: 0.7653061224489796\n"
          ]
        }
      ],
      "source": [
        "id = train_f1_scores.index(max(train_f1_scores))\n",
        "print(f\"Number of trees: {params[id]}\")\n",
        "print(f\"Train f1-score max: {train_f1_scores[id]}\")\n",
        "print(f\"Test f1-score: {test_f1_scores[id]}\")\n",
        "\n",
        "id = test_f1_scores.index(max(test_f1_scores))\n",
        "print(f\"Number of trees: {params[id]}\")\n",
        "print(f\"Train f1-score max: {train_f1_scores[id]}\")\n",
        "print(f\"Test f1-score: {test_f1_scores[id]}\")"
      ]
    },
    {
      "cell_type": "markdown",
      "metadata": {
        "id": "mY_9ACkjlFHP"
      },
      "source": [
        "And the same experiment using `AdaBoost` (set `algorithm='SAMME'` as hyperparameter to avoid warnings), draw conclusions"
      ]
    },
    {
      "cell_type": "code",
      "execution_count": 63,
      "metadata": {
        "id": "fLRe0t1XlLtG"
      },
      "outputs": [
        {
          "data": {
            "image/png": "[encoded data removed]",
            "text/plain": [
              "<Figure size 1200x600 with 1 Axes>"
            ]
          },
          "metadata": {},
          "output_type": "display_data"
        }
      ],
      "source": [
        "from sklearn.ensemble import AdaBoostClassifier\n",
        "\n",
        "params = list(map(np.int64, np.logspace(1, 4, 25)))\n",
        "\n",
        "train_f1_scores = []\n",
        "test_f1_scores = []\n",
        "\n",
        "for n_estimators in params:\n",
        "    ada_clf = AdaBoostClassifier(n_estimators=n_estimators, random_state=0)\n",
        "    ada_clf.fit(X_train, y_train)\n",
        "    \n",
        "    y_train_pred = ada_clf.predict(X_train)\n",
        "    y_test_pred = ada_clf.predict(X_test)\n",
        "    \n",
        "    train_f1 = f1_score(y_train, y_train_pred)\n",
        "    test_f1 = f1_score(y_test, y_test_pred)\n",
        "    \n",
        "    train_f1_scores.append(train_f1)\n",
        "    test_f1_scores.append(test_f1)\n",
        "\n",
        "plt.figure(figsize=(12, 6))\n",
        "\n",
        "plt.plot(params, train_f1_scores, label='Train F1-score', marker='o')\n",
        "plt.plot(params, test_f1_scores, label='Test F1-score', marker='o')\n",
        "\n",
        "plt.xlabel('Number of Estimators')\n",
        "plt.ylabel('F1-score')\n",
        "plt.title('AdaBoost Performance depends on Number of Estimators')\n",
        "plt.legend()\n",
        "plt.grid()\n",
        "plt.show()"
      ]
    },
    {
      "cell_type": "markdown",
      "metadata": {
        "id": "3e3rmrYunPtP"
      },
      "source": [
        "With how many models the best train quality is achived? What the test quality will be?"
      ]
    },
    {
      "cell_type": "code",
      "execution_count": 64,
      "metadata": {
        "id": "hs30vnG3nOH2"
      },
      "outputs": [
        {
          "name": "stdout",
          "output_type": "stream",
          "text": [
            "Number of models: 10000\n",
            "Train f1-score max: 0.8461538461538461\n",
            "Test f1-score: 0.7373737373737373\n",
            "Number of models: 1778\n",
            "Train f1-score max: 0.811965811965812\n",
            "Test f1-score: 0.7638190954773869\n"
          ]
        }
      ],
      "source": [
        "id = train_f1_scores.index(max(train_f1_scores))\n",
        "print(f\"Number of models: {params[id]}\")\n",
        "print(f\"Train f1-score max: {train_f1_scores[id]}\")\n",
        "print(f\"Test f1-score: {test_f1_scores[id]}\")\n",
        "\n",
        "id = test_f1_scores.index(max(test_f1_scores))\n",
        "print(f\"Number of models: {params[id]}\")\n",
        "print(f\"Train f1-score max: {train_f1_scores[id]}\")\n",
        "print(f\"Test f1-score: {test_f1_scores[id]}\")"
      ]
    },
    {
      "cell_type": "markdown",
      "metadata": {
        "id": "doj-Bx1XmpX0"
      },
      "source": [
        "**Answer** Here we can notice that in Random Forest case, if we take \"best train score\" model and \"best test score\" model, they have 233 and 88 trees respectively. And scores are very close (almost the same).\n",
        "But, in AdaBoost case, number of models are 10000 and 1778. And scores differ a lot. Also you can see this situation on graph above.\n",
        "And train scores are much less than with Random Forest. It means that AdaBoost doesn't have the ability to retrain on training data. Scores will be close in any data we'll give to AdaBoost"
      ]
    },
    {
      "cell_type": "markdown",
      "metadata": {
        "id": "Ohj3JMTkndCi"
      },
      "source": [
        "# Task 6 (1 point)"
      ]
    },
    {
      "cell_type": "markdown",
      "metadata": {
        "id": "D0UxqkGmnjdD"
      },
      "source": [
        "What is the best quality achived? Which model did achive it? Whith which hyperparameters? Does it seem logical?"
      ]
    },
    {
      "cell_type": "markdown",
      "metadata": {
        "id": "Eo7-ltmQnwsG"
      },
      "source": [
        "**Answer**\n",
        "1) Best train score: 0.9728601252609603, RandomForestClassifier with 233 trees\n",
        "2) Best test score: 0.7653061224489796, RandomForestClassifier with 88 trees\n",
        "As we see, the best model for our task is RandomForestClassifier. But also good test score got by AdaBoost. And great ability of such model - to get close scores on train and test data (stability)"
      ]
    }
  ],
  "metadata": {
    "colab": {
      "provenance": []
    },
    "kernelspec": {
      "display_name": ".venv",
      "language": "python",
      "name": "python3"
    },
    "language_info": {
      "codemirror_mode": {
        "name": "ipython",
        "version": 3
      },
      "file_extension": ".py",
      "mimetype": "text/x-python",
      "name": "python",
      "nbconvert_exporter": "python",
      "pygments_lexer": "ipython3",
      "version": "3.12.4"
    }
  },
  "nbformat": 4,
  "nbformat_minor": 0
}
